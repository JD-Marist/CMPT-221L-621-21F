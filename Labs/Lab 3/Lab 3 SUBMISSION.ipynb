{
 "cells": [
  {
   "cell_type": "markdown",
   "source": [
    "# Lab Three\r\n",
    "---\r\n",
    "\r\n",
    "Ok for this lab we're going to reiterate a lot of the things that we went over in class.\r\n",
    "\r\n",
    "Our Goals are:\r\n",
    "- Understanding Variable Types\r\n",
    "- Defining Variables\r\n",
    "- Using Conditionals\r\n",
    "- Using Loops\r\n",
    "- Creating Objects\r\n",
    "- Writing a function\r\n"
   ],
   "metadata": {}
  },
  {
   "cell_type": "markdown",
   "source": [
    "## What's the difference between Null and undefined?\r\n",
    "### Null is the absence of a value, while Undefined means the value does not exist."
   ],
   "metadata": {}
  },
  {
   "cell_type": "markdown",
   "source": [
    "## List the 3 Variable Types and Use Them!\r\n",
    "### Var, Let, & Const.\r\n",
    "\r\n"
   ],
   "metadata": {}
  },
  {
   "cell_type": "code",
   "execution_count": null,
   "source": [
    "var myName = \"Jason\";\r\n",
    "console.log(myName);\r\n",
    "\r\n",
    "let myName = \"Paul\";\r\n",
    "console.log(myName);\r\n",
    "\r\n",
    "const myNameConst = \"Dos Santos\";\r\n",
    "console.log(myNameConst);"
   ],
   "outputs": [],
   "metadata": {}
  },
  {
   "cell_type": "markdown",
   "source": [
    "## Use an If/Else If/Else Statement and a Switch Case statement"
   ],
   "metadata": {}
  },
  {
   "cell_type": "code",
   "execution_count": null,
   "source": [
    "let Red = false;\r\n",
    "let Blue = false;\r\n",
    "\r\n",
    "if (Red) {\r\n",
    "    console.log(\"My favorite color is red!\");\r\n",
    "} else if (Blue) {\r\n",
    "    console.log(\"My favorite color is blue!\");\r\n",
    "} else {\r\n",
    "    console.log(\"Ehhh, I like purple myself. Best of both worlds.\");\r\n",
    "}"
   ],
   "outputs": [],
   "metadata": {}
  },
  {
   "cell_type": "code",
   "execution_count": null,
   "source": [
    "var starter = \"Knife\";\r\n",
    "switch (starter) {\r\n",
    "    case \"Gun\":\r\n",
    "        console.log(\"You bring a gun to a knife fight!\");\r\n",
    "        break;\r\n",
    "    case \"Knife\":\r\n",
    "        console.log(\"A good old fashioned knife!\");\r\n",
    "        break;\r\n",
    "    case \"Tank\":\r\n",
    "        console.log(\"You bring a- HOLY SH-!\");\r\n",
    "        break;\r\n",
    "\r\n",
    "    default:\r\n",
    "        console.log(\"Man, this is not a friendly part of town.\");\r\n",
    "        break;\r\n",
    "}"
   ],
   "outputs": [],
   "metadata": {}
  },
  {
   "cell_type": "markdown",
   "source": [
    "## Use a For and a While Loop"
   ],
   "metadata": {}
  },
  {
   "cell_type": "code",
   "execution_count": null,
   "source": [
    "var movies = [\"Harry Potter\", \"Star Wars\", \"Percy Jackson\"];\r\n",
    "for (movie in movies) {\r\n",
    "    console.log(movie);\r\n",
    "}"
   ],
   "outputs": [],
   "metadata": {}
  },
  {
   "cell_type": "code",
   "execution_count": null,
   "source": [
    "var total = 0\r\n",
    "while (total < 10) {\r\n",
    "    console.log(total);\r\n",
    "    total++;\r\n",
    "}"
   ],
   "outputs": [],
   "metadata": {}
  },
  {
   "cell_type": "markdown",
   "source": [
    "## Make an object!"
   ],
   "metadata": {}
  },
  {
   "cell_type": "code",
   "execution_count": null,
   "source": [
    "let Bannette = {\r\n",
    "    Gender: \"Male\",\r\n",
    "    Item:  \"Banettite (mega stone)\",\r\n",
    "    Moves: [\"Feint Attack\", \"Screech\", \"Phantom Force\", \"Destiny Bond\"],\r\n",
    "    LV:       15\r\n",
    "}\r\n",
    "\r\n",
    "console.log(Bannette);"
   ],
   "outputs": [],
   "metadata": {}
  },
  {
   "cell_type": "markdown",
   "source": [
    "## Make a function, It can do anything!"
   ],
   "metadata": {}
  },
  {
   "cell_type": "code",
   "execution_count": null,
   "source": [
    "function grade(score) {\r\n",
    "    console.log(`Your test grad is ${score}!`);\r\n",
    "}\r\n",
    "grade(\"A+\")"
   ],
   "outputs": [],
   "metadata": {}
  },
  {
   "cell_type": "markdown",
   "source": [
    "## Optional: Checkout HackerRank and try a problem in Javascript"
   ],
   "metadata": {}
  }
 ],
 "metadata": {
  "orig_nbformat": 4,
  "language_info": {
   "name": "javascript",
   "version": "10.22.0",
   "mimetype": "application/javascript",
   "file_extension": ".js"
  },
  "kernelspec": {
   "name": "javascript",
   "display_name": "Javascript (Node.js)",
   "language": "javascript"
  }
 },
 "nbformat": 4,
 "nbformat_minor": 2
}