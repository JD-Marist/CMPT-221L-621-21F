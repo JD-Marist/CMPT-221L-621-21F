{
 "cells": [
  {
   "cell_type": "markdown",
   "source": [
    "# Lab Four\n",
    "---\n",
    "\n",
    "Ok for this lab we're going to complete our Iteration 0.\n",
    "\n",
    "Our Goals are:\n",
    "- Introduce the team\n",
    "- Define team meeting cadence, means of communication, and scheduled activities\n",
    "- Discuss means of documentation, and development\n",
    "- Create Design Specifications\n",
    "- Create Initial Backlog\n",
    "- Assign Roles (These will change since we want every one to be in every role at some point)\n"
   ],
   "metadata": {}
  },
  {
   "cell_type": "markdown",
   "source": [
    "## First things first, what's your initial idea for the project!? \n",
    "This is allowed to change and be altered but the alterations have to be approved by the shareholder! You can't just show up with a different product than you promised. That's the quickest way to not get paid! \n",
    "\n",
    "**When you have this also put it in the Slack channel that you'll make in the next step! I may not take the first idea. The channel with me will serve as a means to communicate with each other if you so choose as well as me!**"
   ],
   "metadata": {}
  },
  {
   "cell_type": "markdown",
   "source": [
    "Our project idea is called Digital Passport. This application allows people to post tourist pictures and the location in which the pictures were taken. Thus, other users can look up a desired travel location and see and comment on other people's pictures from that place. It is a great way for users to do vacation research and see the places they can visit and things they can do in a travel destination."
   ],
   "metadata": {}
  },
  {
   "cell_type": "markdown",
   "source": [
    "## Once you have that come up with a team/company name! Make a slack channel with all the members of your team and Professor Kippins!\n",
    "\n",
    "\n"
   ],
   "metadata": {}
  },
  {
   "cell_type": "markdown",
   "source": [
    "Phoenix Foundation."
   ],
   "metadata": {}
  },
  {
   "cell_type": "markdown",
   "source": [
    "## How often are we meeting for Stand ups?\n",
    "\n"
   ],
   "metadata": {}
  },
  {
   "cell_type": "markdown",
   "source": [
    "Every Monday, Wednesday, and Friday."
   ],
   "metadata": {}
  },
  {
   "cell_type": "markdown",
   "source": [
    "## What is our iteration length? We're all locked into 2 week iterations (This ones a gimmie 😂) \n",
    "\n"
   ],
   "metadata": {}
  },
  {
   "cell_type": "markdown",
   "source": [
    "2 week iteration length."
   ],
   "metadata": {}
  },
  {
   "cell_type": "markdown",
   "source": [
    "## What is our preferred means of communication? (Slack, Email, Text, Zoom call?)\n",
    "\n"
   ],
   "metadata": {}
  },
  {
   "cell_type": "markdown",
   "source": [
    "We prefferably use Discord to communicate."
   ],
   "metadata": {}
  },
  {
   "cell_type": "markdown",
   "source": [
    "## What means of communication do we want for Stand Ups?\n",
    "\n"
   ],
   "metadata": {}
  },
  {
   "cell_type": "markdown",
   "source": [
    "Discord."
   ],
   "metadata": {}
  },
  {
   "cell_type": "markdown",
   "source": [
    "## What means of communication do we want for Iteration Planning?\n",
    "\n"
   ],
   "metadata": {}
  },
  {
   "cell_type": "markdown",
   "source": [
    "A Discord voice channel."
   ],
   "metadata": {}
  },
  {
   "cell_type": "markdown",
   "source": [
    "## What means of communication do we want for Retrospectives?\n",
    "\n"
   ],
   "metadata": {}
  },
  {
   "cell_type": "markdown",
   "source": [
    "Discord voice channels."
   ],
   "metadata": {}
  },
  {
   "cell_type": "markdown",
   "source": [
    "# You need to have your project idea settled before you answer these!\n",
    "## Come up with your design specifications! What is your 1.0 release supposed to look like?\n",
    "\n"
   ],
   "metadata": {}
  },
  {
   "cell_type": "markdown",
   "source": [
    "Version 1.0 will be focused around a map that the user will be able to zoom in and out of and pan around to find a location they are looking for. They can click in a general metropolitan area, where they will be directed to a page for them to scroll through the posts from that location. Users will be able to make an account, which will let them comment on others' posts and save posts to a personal collection for vacation planning purposes."
   ],
   "metadata": {}
  },
  {
   "cell_type": "markdown",
   "source": [
    "## Come up with a way to manage and create an initial backlog of things to do. Put the link in your Slack Channel's description as well as here!\n",
    "\n"
   ],
   "metadata": {}
  },
  {
   "cell_type": "markdown",
   "source": [
    "Trello will be used to manage our backlog of things to do. Here is the link: https://trello.com/invite/b/VubnuuNs/d1ec23b84e048a4892acef27bc7e7b03/sd2-final-project-development-flow"
   ],
   "metadata": {}
  },
  {
   "cell_type": "markdown",
   "source": [
    "## What's everyone's starting role (Choose an IM and PO everyone else is Dev)"
   ],
   "metadata": {}
  },
  {
   "cell_type": "markdown",
   "source": [
    "IM: Nicholas Fisher;\n",
    "PO: Josh Seligman;\n",
    "Dev: Nick Fiore & Jason dos Santos"
   ],
   "metadata": {}
  }
 ],
 "metadata": {
  "interpreter": {
   "hash": "aee8b7b246df8f9039afb4144a1f6fd8d2ca17a180786b69acc140d282b71a49"
  },
  "kernelspec": {
   "display_name": "Javascript (Node.js)",
   "language": "javascript",
   "name": "javascript"
  },
  "language_info": {
   "file_extension": ".js",
   "mimetype": "application/javascript",
   "name": "javascript",
   "version": "14.17.6"
  }
 },
 "nbformat": 4,
 "nbformat_minor": 4
}